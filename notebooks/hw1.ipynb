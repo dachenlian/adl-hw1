{
 "cells": [
  {
   "cell_type": "code",
   "execution_count": 58,
   "id": "residential-chocolate",
   "metadata": {},
   "outputs": [],
   "source": [
    "import gzip\n",
    "import logging\n",
    "import json\n",
    "from typing import Dict\n",
    "\n",
    "import spacy\n",
    "import pickle\n",
    "import pytorch_lightning as pl\n",
    "import torch\n",
    "from torch.utils.data import Dataset, DataLoader"
   ]
  },
  {
   "cell_type": "code",
   "execution_count": 22,
   "id": "crucial-antibody",
   "metadata": {},
   "outputs": [],
   "source": [
    "logger = logging.getLogger(__name__)\n",
    "logger.setLevel(logging.DEBUG)\n",
    "ch = logging.StreamHandler()\n",
    "formatter = logging.Formatter('%(asctime)s - %(name)s - %(levelname)s - %(message)s')\n",
    "ch.setFormatter(formatter)\n",
    "logger.addHandler(ch)"
   ]
  },
  {
   "cell_type": "code",
   "execution_count": 62,
   "id": "passive-oasis",
   "metadata": {},
   "outputs": [],
   "source": [
    "def build_glove(fpath: str) -> Dict[str, torch.FloatTensor]:\n",
    "    logger.info(\"Loading Glove embeddings...\")\n",
    "    glove = {}\n",
    "    with open(fpath) as f:\n",
    "        for line in f:\n",
    "            values = line.split()\n",
    "            word = ''.join(values[:-300])\n",
    "            vector = torch.FloatTensor([float(v) for v in values[-300:]])\n",
    "            glove[word] = vector\n",
    "            \n",
    "    logger.info(\"Glove embeddings loaded.\")\n",
    "    return glove\n",
    "\n",
    "def build_intent_mappings(fpath: str, save=False):\n",
    "    with open(fpath) as f:\n",
    "        data = json.load(f)\n",
    "    \n",
    "    intents = list(set([i[\"intent\"] for i in data]))\n",
    "    intents_to_idx = {intent: idx for idx, intent in enumerate(intents)}\n",
    "    \n",
    "    if save:\n",
    "        with open('../data/intents_to_idx.json', 'w') as f:\n",
    "            json.dump(intents_to_idx, f, ensure_ascii=False, indent=4)\n",
    "    \n",
    "    return intents_to_idx"
   ]
  },
  {
   "cell_type": "code",
   "execution_count": 63,
   "id": "architectural-mobile",
   "metadata": {},
   "outputs": [
    {
     "data": {
      "text/plain": [
       "{'no': 0,\n",
       " 'schedule_meeting': 1,\n",
       " 'goodbye': 2,\n",
       " 'interest_rate': 3,\n",
       " 'report_lost_card': 4,\n",
       " 'rewards_balance': 5,\n",
       " 'what_can_i_ask_you': 6,\n",
       " 'plug_type': 7,\n",
       " 'credit_score': 8,\n",
       " 'uber': 9,\n",
       " 'min_payment': 10,\n",
       " 'rollover_401k': 11,\n",
       " 'damaged_card': 12,\n",
       " 'share_location': 13,\n",
       " 'book_flight': 14,\n",
       " 'insurance': 15,\n",
       " 'how_busy': 16,\n",
       " 'pay_bill': 17,\n",
       " 'calendar': 18,\n",
       " 'direct_deposit': 19,\n",
       " 'carry_on': 20,\n",
       " 'income': 21,\n",
       " 'jump_start': 22,\n",
       " 'calories': 23,\n",
       " 'measurement_conversion': 24,\n",
       " 'cancel_reservation': 25,\n",
       " 'confirm_reservation': 26,\n",
       " 'tire_pressure': 27,\n",
       " 'traffic': 28,\n",
       " 'meeting_schedule': 29,\n",
       " 'pto_used': 30,\n",
       " 'smart_home': 31,\n",
       " 'lost_luggage': 32,\n",
       " 'weather': 33,\n",
       " 'time': 34,\n",
       " 'pto_request_status': 35,\n",
       " 'timezone': 36,\n",
       " 'calendar_update': 37,\n",
       " 'thank_you': 38,\n",
       " 'whisper_mode': 39,\n",
       " 'mpg': 40,\n",
       " 'shopping_list': 41,\n",
       " 'balance': 42,\n",
       " 'user_name': 43,\n",
       " 'bill_due': 44,\n",
       " 'do_you_have_pets': 45,\n",
       " 'what_are_your_hobbies': 46,\n",
       " 'food_last': 47,\n",
       " 'who_made_you': 48,\n",
       " 'change_accent': 49,\n",
       " 'change_ai_name': 50,\n",
       " 'transfer': 51,\n",
       " 'taxes': 52,\n",
       " 'fun_fact': 53,\n",
       " 'replacement_card_duration': 54,\n",
       " 'timer': 55,\n",
       " 'car_rental': 56,\n",
       " 'directions': 57,\n",
       " 'maybe': 58,\n",
       " 'nutrition_info': 59,\n",
       " 'tell_joke': 60,\n",
       " 'distance': 61,\n",
       " 'transactions': 62,\n",
       " 'accept_reservations': 63,\n",
       " 'pto_balance': 64,\n",
       " 'change_speed': 65,\n",
       " 'todo_list_update': 66,\n",
       " 'are_you_a_bot': 67,\n",
       " 'translate': 68,\n",
       " 'reset_settings': 69,\n",
       " 'reminder': 70,\n",
       " 'order_checks': 71,\n",
       " 'exchange_rate': 72,\n",
       " 'restaurant_suggestion': 73,\n",
       " 'w2': 74,\n",
       " 'yes': 75,\n",
       " 'text': 76,\n",
       " 'meaning_of_life': 77,\n",
       " 'payday': 78,\n",
       " 'make_call': 79,\n",
       " 'ingredient_substitution': 80,\n",
       " 'redeem_rewards': 81,\n",
       " 'where_are_you_from': 82,\n",
       " 'play_music': 83,\n",
       " 'reminder_update': 84,\n",
       " 'freeze_account': 85,\n",
       " 'routing': 86,\n",
       " 'improve_credit_score': 87,\n",
       " 'flip_coin': 88,\n",
       " 'account_blocked': 89,\n",
       " 'spelling': 90,\n",
       " 'oil_change_when': 91,\n",
       " 'what_song': 92,\n",
       " 'travel_notification': 93,\n",
       " 'international_visa': 94,\n",
       " 'card_declined': 95,\n",
       " 'order_status': 96,\n",
       " 'todo_list': 97,\n",
       " 'gas': 98,\n",
       " 'current_location': 99,\n",
       " 'pto_request': 100,\n",
       " 'recipe': 101,\n",
       " 'cook_time': 102,\n",
       " 'vaccines': 103,\n",
       " 'credit_limit': 104,\n",
       " 'last_maintenance': 105,\n",
       " 'travel_alert': 106,\n",
       " 'next_holiday': 107,\n",
       " 'how_old_are_you': 108,\n",
       " 'expiration_date': 109,\n",
       " 'new_card': 110,\n",
       " 'what_is_your_name': 111,\n",
       " 'alarm': 112,\n",
       " 'change_language': 113,\n",
       " 'repeat': 114,\n",
       " 'definition': 115,\n",
       " 'pin_change': 116,\n",
       " 'date': 117,\n",
       " 'insurance_change': 118,\n",
       " 'bill_balance': 119,\n",
       " 'apr': 120,\n",
       " 'gas_type': 121,\n",
       " 'sync_device': 122,\n",
       " 'calculator': 123,\n",
       " 'ingredients_list': 124,\n",
       " 'travel_suggestion': 125,\n",
       " 'shopping_list_update': 126,\n",
       " 'order': 127,\n",
       " 'greeting': 128,\n",
       " 'change_volume': 129,\n",
       " 'meal_suggestion': 130,\n",
       " 'credit_limit_change': 131,\n",
       " 'report_fraud': 132,\n",
       " 'cancel': 133,\n",
       " 'update_playlist': 134,\n",
       " 'next_song': 135,\n",
       " 'spending_history': 136,\n",
       " 'international_fees': 137,\n",
       " 'restaurant_reservation': 138,\n",
       " 'change_user_name': 139,\n",
       " 'book_hotel': 140,\n",
       " 'application_status': 141,\n",
       " 'restaurant_reviews': 142,\n",
       " 'roll_dice': 143,\n",
       " 'who_do_you_work_for': 144,\n",
       " 'flight_status': 145,\n",
       " 'schedule_maintenance': 146,\n",
       " 'tire_change': 147,\n",
       " 'oil_change_how': 148,\n",
       " 'find_phone': 149}"
      ]
     },
     "execution_count": 63,
     "metadata": {},
     "output_type": "execute_result"
    }
   ],
   "source": [
    "build_intent_mappings('../ADL21-HW1/data/intent/train.json')"
   ]
  },
  {
   "cell_type": "code",
   "execution_count": null,
   "id": "dirty-night",
   "metadata": {},
   "outputs": [],
   "source": [
    "class IntentDataset(Dataset):\n",
    "    def __init__(self, data_path: str, intent_mapping_path: str, glove_path: str = \"../../data/glove.840B.300d.gz\", unk_token_strategy='ignore'):\n",
    "        (self.data, \n",
    "         self.intent_to_idx, \n",
    "         self.idx_to_intent) = self._load_intent_data(data_path, intent_mapping_path)\n",
    "        self.glove = self._load_glove(glove_path)\n",
    "        self.unk_token_strategy = unk_token_strategy\n",
    "    \n",
    "    def __len__(self):\n",
    "        return len(self.data)\n",
    "        \n",
    "        \n",
    "    def _load_intent_data(self, fpath: str, intent_mapping_path: str):\n",
    "        with open(fpath) as f:\n",
    "            data = json.load(f)\n",
    "            \n",
    "        with open(intent_mapping_path) as f:\n",
    "            intent_to_idx = json.load(f)\n",
    "            idx_to_intent = {idx: intent for intent, idx in intent_to_idx.items()}\n",
    "        \n",
    "        return data, intent_to_idx, idx_to_intent\n",
    "            \n",
    "    \n",
    "    def __getitem__(self, idx):\n",
    "        sample = self.data[idx]\n",
    "        text = sample['text']\n",
    "        intent = sample['intent']\n",
    "        _id = sample['id']\n",
    "        \n",
    "        text = self.convert_to_vectors(text)\n",
    "        intent = self.intent_to_idx(intent)\n",
    "        \n",
    "        return {\n",
    "            'id': _id\n",
    "            'text': text\n",
    "            'intent': intent\n",
    "        }\n",
    "        \n",
    "    \n",
    "    def convert_to_vectors(self, text):\n",
    "        vectors = []\n",
    "        if self.unk_token_strategy == 'ignore':\n",
    "            for idx, tok in enumerate(text.split()):\n",
    "                vector = self.glove.get(tok)\n",
    "                if not vector:\n",
    "                    continue\n",
    "                else:\n",
    "                    vectors.append(vector)\n",
    "        return torch.Tensor(vectors)\n",
    "            \n",
    "    \n",
    "        \n",
    "        \n",
    "    def _load_glove(self, fpath: str) -> Dict[str, torch.FloatTensor]:\n",
    "        with gzip.open(fpath, 'rb') as f:\n",
    "            emb = pickle.load(f)\n",
    "        logger.info(\"Loaded GloVe embeddings.\")\n",
    "        return emb\n",
    "        \n",
    "class IntentDataModule(pl.LightningDataModule):\n",
    "    def __init__(self, data_dir: str, batch_size: int = 64):\n",
    "        super().__init__()\n",
    "        "
   ]
  },
  {
   "cell_type": "code",
   "execution_count": 65,
   "id": "single-interest",
   "metadata": {},
   "outputs": [
    {
     "data": {
      "text/plain": [
       "tensor([0., 0., 0., 0., 0., 0., 0., 0., 0., 0.])"
      ]
     },
     "execution_count": 65,
     "metadata": {},
     "output_type": "execute_result"
    }
   ],
   "source": []
  },
  {
   "cell_type": "code",
   "execution_count": 47,
   "id": "magnetic-boxing",
   "metadata": {},
   "outputs": [
    {
     "name": "stderr",
     "output_type": "stream",
     "text": [
      "2021-03-18 00:23:09,648 - __main__ - INFO - Loading Glove embeddings...\n",
      "2021-03-18 00:25:02,845 - __main__ - INFO - Glove embeddings loaded.\n"
     ]
    }
   ],
   "source": [
    "g = build_glove('../../data/glove.840B.300d.txt')"
   ]
  },
  {
   "cell_type": "code",
   "execution_count": 50,
   "id": "organized-treasury",
   "metadata": {},
   "outputs": [],
   "source": [
    "with gzip.open('../../data/glove.840B.300d.gz', 'wb') as f:\n",
    "    pickle.dump(g, f)"
   ]
  },
  {
   "cell_type": "code",
   "execution_count": 17,
   "id": "secondary-order",
   "metadata": {},
   "outputs": [
    {
     "name": "stderr",
     "output_type": "stream",
     "text": [
      "Warning : `load_model` does not return WordVectorModel or SupervisedModel any more, but a `FastText` object which is very similar.\n"
     ]
    }
   ],
   "source": [
    "ft = fasttext.load_model('../../data/crawl-300d-2M-subword.bin')"
   ]
  },
  {
   "cell_type": "code",
   "execution_count": 12,
   "id": "champion-portable",
   "metadata": {},
   "outputs": [
    {
     "data": {
      "text/plain": [
       "<fasttext.FastText._FastText at 0x7f6c50bd7430>"
      ]
     },
     "execution_count": 12,
     "metadata": {},
     "output_type": "execute_result"
    }
   ],
   "source": [
    "fasttext.util.reduce_model(ft, 100)"
   ]
  },
  {
   "cell_type": "code",
   "execution_count": 13,
   "id": "expired-speaker",
   "metadata": {},
   "outputs": [],
   "source": [
    "ft.save_model('../../data/crawl-100d-2M-subword.bin')"
   ]
  },
  {
   "cell_type": "code",
   "execution_count": 14,
   "id": "japanese-budapest",
   "metadata": {},
   "outputs": [
    {
     "name": "stderr",
     "output_type": "stream",
     "text": [
      "Warning : `load_model` does not return WordVectorModel or SupervisedModel any more, but a `FastText` object which is very similar.\n"
     ]
    }
   ],
   "source": [
    "ft = fasttext.load_model('../../data/crawl-100d-2M-subword.bin')"
   ]
  },
  {
   "cell_type": "code",
   "execution_count": 18,
   "id": "suburban-retreat",
   "metadata": {},
   "outputs": [
    {
     "ename": "UnicodeDecodeError",
     "evalue": "'utf-8' codec can't decode byte 0xce in position 57: unexpected end of data",
     "output_type": "error",
     "traceback": [
      "\u001b[0;31m---------------------------------------------------------------------------\u001b[0m",
      "\u001b[0;31mUnicodeDecodeError\u001b[0m                        Traceback (most recent call last)",
      "\u001b[0;32m<ipython-input-18-e8c1ba3eca2e>\u001b[0m in \u001b[0;36m<module>\u001b[0;34m\u001b[0m\n\u001b[0;32m----> 1\u001b[0;31m \u001b[0mwords\u001b[0m \u001b[0;34m=\u001b[0m \u001b[0mft\u001b[0m\u001b[0;34m.\u001b[0m\u001b[0mget_words\u001b[0m\u001b[0;34m(\u001b[0m\u001b[0;34m)\u001b[0m\u001b[0;34m\u001b[0m\u001b[0;34m\u001b[0m\u001b[0m\n\u001b[0m\u001b[1;32m      2\u001b[0m \u001b[0mwords\u001b[0m\u001b[0;34m[\u001b[0m\u001b[0;34m:\u001b[0m\u001b[0;36m50\u001b[0m\u001b[0;34m]\u001b[0m\u001b[0;34m\u001b[0m\u001b[0;34m\u001b[0m\u001b[0m\n",
      "\u001b[0;32m~/miniconda3/envs/adl/lib/python3.8/site-packages/fasttext/FastText.py\u001b[0m in \u001b[0;36mget_words\u001b[0;34m(self, include_freq, on_unicode_error)\u001b[0m\n\u001b[1;32m    257\u001b[0m         \u001b[0mthe\u001b[0m \u001b[0mfunction\u001b[0m \u001b[0mget_subwords\u001b[0m\u001b[0;34m.\u001b[0m\u001b[0;34m\u001b[0m\u001b[0;34m\u001b[0m\u001b[0m\n\u001b[1;32m    258\u001b[0m         \"\"\"\n\u001b[0;32m--> 259\u001b[0;31m         \u001b[0mpair\u001b[0m \u001b[0;34m=\u001b[0m \u001b[0mself\u001b[0m\u001b[0;34m.\u001b[0m\u001b[0mf\u001b[0m\u001b[0;34m.\u001b[0m\u001b[0mgetVocab\u001b[0m\u001b[0;34m(\u001b[0m\u001b[0mon_unicode_error\u001b[0m\u001b[0;34m)\u001b[0m\u001b[0;34m\u001b[0m\u001b[0;34m\u001b[0m\u001b[0m\n\u001b[0m\u001b[1;32m    260\u001b[0m         \u001b[0;32mif\u001b[0m \u001b[0minclude_freq\u001b[0m\u001b[0;34m:\u001b[0m\u001b[0;34m\u001b[0m\u001b[0;34m\u001b[0m\u001b[0m\n\u001b[1;32m    261\u001b[0m             \u001b[0;32mreturn\u001b[0m \u001b[0;34m(\u001b[0m\u001b[0mpair\u001b[0m\u001b[0;34m[\u001b[0m\u001b[0;36m0\u001b[0m\u001b[0;34m]\u001b[0m\u001b[0;34m,\u001b[0m \u001b[0mnp\u001b[0m\u001b[0;34m.\u001b[0m\u001b[0marray\u001b[0m\u001b[0;34m(\u001b[0m\u001b[0mpair\u001b[0m\u001b[0;34m[\u001b[0m\u001b[0;36m1\u001b[0m\u001b[0;34m]\u001b[0m\u001b[0;34m)\u001b[0m\u001b[0;34m)\u001b[0m\u001b[0;34m\u001b[0m\u001b[0;34m\u001b[0m\u001b[0m\n",
      "\u001b[0;31mUnicodeDecodeError\u001b[0m: 'utf-8' codec can't decode byte 0xce in position 57: unexpected end of data"
     ]
    }
   ],
   "source": [
    "words = ft.get_words()\n",
    "words[:50]"
   ]
  },
  {
   "cell_type": "code",
   "execution_count": null,
   "id": "threatened-setting",
   "metadata": {},
   "outputs": [],
   "source": [
    "class IntentClassifier(pl.LightningModule):\n",
    "    def __init__(self):\n",
    "        super().__init__()\n",
    "        \n",
    "        "
   ]
  }
 ],
 "metadata": {
  "kernelspec": {
   "display_name": "adl",
   "language": "python",
   "name": "adl"
  },
  "language_info": {
   "codemirror_mode": {
    "name": "ipython",
    "version": 3
   },
   "file_extension": ".py",
   "mimetype": "text/x-python",
   "name": "python",
   "nbconvert_exporter": "python",
   "pygments_lexer": "ipython3",
   "version": "3.8.8"
  }
 },
 "nbformat": 4,
 "nbformat_minor": 5
}
