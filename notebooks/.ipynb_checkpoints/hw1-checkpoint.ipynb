{
 "cells": [
  {
   "cell_type": "code",
   "execution_count": 1,
   "id": "greenhouse-harvey",
   "metadata": {},
   "outputs": [],
   "source": [
    "import gzip\n",
    "import logging\n",
    "import json\n",
    "from pathlib import Path\n",
    "from typing import Dict, Optional\n",
    "\n",
    "import spacy\n",
    "import pickle\n",
    "import pytorch_lightning as pl\n",
    "from pytorch_lightning.callbacks.early_stopping import EarlyStopping\n",
    "import torch\n",
    "from torch.optim import Adam\n",
    "import torch.nn as nn\n",
    "import torch.nn.functional as F\n",
    "from torch.utils.data import Dataset, DataLoader"
   ]
  },
  {
   "cell_type": "code",
   "execution_count": 2,
   "id": "utility-beijing",
   "metadata": {},
   "outputs": [
    {
     "data": {
      "text/plain": [
       "True"
      ]
     },
     "execution_count": 2,
     "metadata": {},
     "output_type": "execute_result"
    }
   ],
   "source": [
    "torch.cuda.is_available()"
   ]
  },
  {
   "cell_type": "code",
   "execution_count": 3,
   "id": "pressing-validation",
   "metadata": {},
   "outputs": [],
   "source": [
    "torch.manual_seed(420)\n",
    "logger = logging.getLogger(__name__)\n",
    "logger.setLevel(logging.DEBUG)\n",
    "ch = logging.StreamHandler()\n",
    "formatter = logging.Formatter('%(asctime)s - %(name)s - %(levelname)s - %(message)s')\n",
    "ch.setFormatter(formatter)\n",
    "logger.addHandler(ch)"
   ]
  },
  {
   "cell_type": "code",
   "execution_count": 4,
   "id": "brutal-amber",
   "metadata": {},
   "outputs": [],
   "source": [
    "def build_glove(fpath: str) -> Dict[str, torch.FloatTensor]:\n",
    "    logger.info(\"Loading Glove embeddings...\")\n",
    "    glove = {}\n",
    "    with open(fpath) as f:\n",
    "        for line in f:\n",
    "            values = line.split()\n",
    "            word = ''.join(values[:-300])\n",
    "            vector = torch.FloatTensor([float(v) for v in values[-300:]])\n",
    "            glove[word] = vector\n",
    "            \n",
    "    logger.info(\"Glove embeddings loaded.\")\n",
    "    return glove\n",
    "\n",
    "def build_intent_mappings(fpath: str, save=False):\n",
    "    with open(fpath) as f:\n",
    "        data = json.load(f)\n",
    "    \n",
    "    intents = list(set([i[\"intent\"] for i in data]))\n",
    "    intents_to_idx = {intent: idx for idx, intent in enumerate(intents)}\n",
    "    \n",
    "    if save:\n",
    "        with open('../data/intents_to_idx.json', 'w') as f:\n",
    "            json.dump(intents_to_idx, f, ensure_ascii=False, indent=4)\n",
    "    \n",
    "    return intents_to_idx"
   ]
  },
  {
   "cell_type": "code",
   "execution_count": 68,
   "id": "moderate-tower",
   "metadata": {},
   "outputs": [
    {
     "data": {
      "text/plain": [
       "{'no': 0,\n",
       " 'schedule_meeting': 1,\n",
       " 'goodbye': 2,\n",
       " 'interest_rate': 3,\n",
       " 'report_lost_card': 4,\n",
       " 'rewards_balance': 5,\n",
       " 'what_can_i_ask_you': 6,\n",
       " 'plug_type': 7,\n",
       " 'credit_score': 8,\n",
       " 'uber': 9,\n",
       " 'min_payment': 10,\n",
       " 'rollover_401k': 11,\n",
       " 'damaged_card': 12,\n",
       " 'share_location': 13,\n",
       " 'book_flight': 14,\n",
       " 'insurance': 15,\n",
       " 'how_busy': 16,\n",
       " 'pay_bill': 17,\n",
       " 'calendar': 18,\n",
       " 'direct_deposit': 19,\n",
       " 'carry_on': 20,\n",
       " 'income': 21,\n",
       " 'jump_start': 22,\n",
       " 'calories': 23,\n",
       " 'measurement_conversion': 24,\n",
       " 'cancel_reservation': 25,\n",
       " 'confirm_reservation': 26,\n",
       " 'tire_pressure': 27,\n",
       " 'traffic': 28,\n",
       " 'meeting_schedule': 29,\n",
       " 'pto_used': 30,\n",
       " 'smart_home': 31,\n",
       " 'lost_luggage': 32,\n",
       " 'weather': 33,\n",
       " 'time': 34,\n",
       " 'pto_request_status': 35,\n",
       " 'timezone': 36,\n",
       " 'calendar_update': 37,\n",
       " 'thank_you': 38,\n",
       " 'whisper_mode': 39,\n",
       " 'mpg': 40,\n",
       " 'shopping_list': 41,\n",
       " 'balance': 42,\n",
       " 'user_name': 43,\n",
       " 'bill_due': 44,\n",
       " 'do_you_have_pets': 45,\n",
       " 'what_are_your_hobbies': 46,\n",
       " 'food_last': 47,\n",
       " 'who_made_you': 48,\n",
       " 'change_accent': 49,\n",
       " 'change_ai_name': 50,\n",
       " 'transfer': 51,\n",
       " 'taxes': 52,\n",
       " 'fun_fact': 53,\n",
       " 'replacement_card_duration': 54,\n",
       " 'timer': 55,\n",
       " 'car_rental': 56,\n",
       " 'directions': 57,\n",
       " 'maybe': 58,\n",
       " 'nutrition_info': 59,\n",
       " 'tell_joke': 60,\n",
       " 'distance': 61,\n",
       " 'transactions': 62,\n",
       " 'accept_reservations': 63,\n",
       " 'pto_balance': 64,\n",
       " 'change_speed': 65,\n",
       " 'todo_list_update': 66,\n",
       " 'are_you_a_bot': 67,\n",
       " 'translate': 68,\n",
       " 'reset_settings': 69,\n",
       " 'reminder': 70,\n",
       " 'order_checks': 71,\n",
       " 'exchange_rate': 72,\n",
       " 'restaurant_suggestion': 73,\n",
       " 'w2': 74,\n",
       " 'yes': 75,\n",
       " 'text': 76,\n",
       " 'meaning_of_life': 77,\n",
       " 'payday': 78,\n",
       " 'make_call': 79,\n",
       " 'ingredient_substitution': 80,\n",
       " 'redeem_rewards': 81,\n",
       " 'where_are_you_from': 82,\n",
       " 'play_music': 83,\n",
       " 'reminder_update': 84,\n",
       " 'freeze_account': 85,\n",
       " 'routing': 86,\n",
       " 'improve_credit_score': 87,\n",
       " 'flip_coin': 88,\n",
       " 'account_blocked': 89,\n",
       " 'spelling': 90,\n",
       " 'oil_change_when': 91,\n",
       " 'what_song': 92,\n",
       " 'travel_notification': 93,\n",
       " 'international_visa': 94,\n",
       " 'card_declined': 95,\n",
       " 'order_status': 96,\n",
       " 'todo_list': 97,\n",
       " 'gas': 98,\n",
       " 'current_location': 99,\n",
       " 'pto_request': 100,\n",
       " 'recipe': 101,\n",
       " 'cook_time': 102,\n",
       " 'vaccines': 103,\n",
       " 'credit_limit': 104,\n",
       " 'last_maintenance': 105,\n",
       " 'travel_alert': 106,\n",
       " 'next_holiday': 107,\n",
       " 'how_old_are_you': 108,\n",
       " 'expiration_date': 109,\n",
       " 'new_card': 110,\n",
       " 'what_is_your_name': 111,\n",
       " 'alarm': 112,\n",
       " 'change_language': 113,\n",
       " 'repeat': 114,\n",
       " 'definition': 115,\n",
       " 'pin_change': 116,\n",
       " 'date': 117,\n",
       " 'insurance_change': 118,\n",
       " 'bill_balance': 119,\n",
       " 'apr': 120,\n",
       " 'gas_type': 121,\n",
       " 'sync_device': 122,\n",
       " 'calculator': 123,\n",
       " 'ingredients_list': 124,\n",
       " 'travel_suggestion': 125,\n",
       " 'shopping_list_update': 126,\n",
       " 'order': 127,\n",
       " 'greeting': 128,\n",
       " 'change_volume': 129,\n",
       " 'meal_suggestion': 130,\n",
       " 'credit_limit_change': 131,\n",
       " 'report_fraud': 132,\n",
       " 'cancel': 133,\n",
       " 'update_playlist': 134,\n",
       " 'next_song': 135,\n",
       " 'spending_history': 136,\n",
       " 'international_fees': 137,\n",
       " 'restaurant_reservation': 138,\n",
       " 'change_user_name': 139,\n",
       " 'book_hotel': 140,\n",
       " 'application_status': 141,\n",
       " 'restaurant_reviews': 142,\n",
       " 'roll_dice': 143,\n",
       " 'who_do_you_work_for': 144,\n",
       " 'flight_status': 145,\n",
       " 'schedule_maintenance': 146,\n",
       " 'tire_change': 147,\n",
       " 'oil_change_how': 148,\n",
       " 'find_phone': 149}"
      ]
     },
     "execution_count": 68,
     "metadata": {},
     "output_type": "execute_result"
    }
   ],
   "source": [
    "# build_intent_mappings('../ADL21-HW1/data/intent/train.json', save=True)"
   ]
  },
  {
   "cell_type": "markdown",
   "id": "continuous-tsunami",
   "metadata": {},
   "source": [
    "# Datasets"
   ]
  },
  {
   "cell_type": "code",
   "execution_count": 12,
   "id": "compatible-camcorder",
   "metadata": {},
   "outputs": [],
   "source": [
    "class IntentDataset(Dataset):\n",
    "    def __init__(self, data_path: str, train: bool, intent_mapping: Dict[str, int], glove: Optional[Dict[str, torch.Float]] = None, glove_path: str = \"../../data/glove.840B.300d.gz\", unk_token_strategy='ignore'):\n",
    "        with open(data_path) as f: \n",
    "            self.data = json.load(f)\n",
    "        self.intent_to_idx = intent_mapping\n",
    "        self.train = train\n",
    "        self.glove = glove\n",
    "        self.unk_token_strategy = unk_token_strategy\n",
    "    \n",
    "    def __len__(self):\n",
    "        return len(self.data)\n",
    "        \n",
    "    def __getitem__(self, idx):\n",
    "        sample = self.data[idx]\n",
    "        _id = sample['id']\n",
    "        text = sample['text']\n",
    "        text = self.convert_to_vectors(text)\n",
    "        out = {\n",
    "            'id': _id,\n",
    "            'text': text\n",
    "        }\n",
    "        if self.train:\n",
    "            intent = sample['intent']\n",
    "            intent = self.intent_to_idx[intent]\n",
    "            out['intent'] = intent\n",
    "        return out\n",
    "        \n",
    "    def convert_to_vectors(self, text):\n",
    "        vectors = []\n",
    "        if self.unk_token_strategy == 'ignore':\n",
    "            for idx, tok in enumerate(text.split()):\n",
    "                try:\n",
    "                    vector = self.glove[tok]\n",
    "                except KeyError:\n",
    "                    continue\n",
    "                else:\n",
    "                    vectors.append(vector)\n",
    "        return torch.stack(vectors)\n",
    "            \n",
    "        \n",
    "class IntentDataModule(pl.LightningDataModule):\n",
    "    def __init__(self, data_dir: str = \"../ADL21-HW1/data/intent\", intent_mapping: str = \"../data/intents_to_idx.json\", embedding_obj=None, embedding_dir: str = \"../../data/glove.840B.300d.gz\", batch_size: int = 32):\n",
    "        super().__init__()\n",
    "        self.data_dir = Path(data_dir)\n",
    "        self.batch_size = batch_size\n",
    "        with open(intent_mapping) as f:\n",
    "            self.intent_to_idx = json.load(f)\n",
    "        if embedding_obj:\n",
    "            self.emb = embedding_obj\n",
    "        else:\n",
    "            self.emb = self._load_glove(embedding_dir)\n",
    "        \n",
    "    def setup(self, stage: Optional[str] = None):\n",
    "        if stage == \"fit\" or stage is None:\n",
    "            self.intent_train = IntentDataset(\n",
    "                data_path=self.data_dir.joinpath('train.json'), \n",
    "                train=True,\n",
    "                intent_mapping=self.intent_to_idx, \n",
    "                glove=self.emb\n",
    "            ) \n",
    "            self.intent_val = IntentDataset(\n",
    "                data_path=self.data_dir.joinpath('eval.json'), \n",
    "                train=True,\n",
    "                intent_mapping=self.intent_to_idx, \n",
    "                glove=self.emb\n",
    "            ) \n",
    "        elif stage == \"test\" or stage is None:\n",
    "            self.intent_test = IntentDataset(\n",
    "                data_path=self.data_dir.joinpath('test.json'), \n",
    "                train=False,\n",
    "                intent_mapping=self.intent_to_idx, \n",
    "                glove=self.emb\n",
    "            ) \n",
    "        \n",
    "    def train_dataloader(self):\n",
    "        return DataLoader(self.intent_train, batch_size=self.batch_size, num_workers=8, pin_memory=True)\n",
    "\n",
    "    def val_dataloader(self):\n",
    "        return DataLoader(self.intent_val, batch_size=self.batch_size, num_workers=8, pin_memory=True)\n",
    "\n",
    "    def test_dataloader(self):\n",
    "        return DataLoader(self.intent_test, batch_size=self.batch_size, num_workers=8, pin_memory=True)\n",
    "        \n",
    "    @staticmethod\n",
    "    def _load_glove(fpath: str) -> Dict[str, torch.FloatTensor]:\n",
    "        logger.info(\"Loading GloVe embeddings...\")\n",
    "        with gzip.open(fpath, 'rb') as f:\n",
    "            emb = pickle.load(f)\n",
    "        logger.info(\"Done!\")\n",
    "        return emb\n",
    "        "
   ]
  },
  {
   "cell_type": "markdown",
   "id": "precise-magic",
   "metadata": {},
   "source": [
    "# Model"
   ]
  },
  {
   "cell_type": "code",
   "execution_count": 6,
   "id": "developmental-flavor",
   "metadata": {},
   "outputs": [],
   "source": [
    "class IntentClassifier(pl.LightningModule):\n",
    "    def __init__(self, num_labels, hidden_size=128, num_layers=3, bidirectional=True):\n",
    "        super().__init__()\n",
    "        self.hidden_size = hidden_size\n",
    "        self.num_layers = num_layers\n",
    "        self.bidirectional = 2 if bidirectional else 1\n",
    "        self.lr = None\n",
    "        self.rnn = nn.GRU(\n",
    "            input_size=300, \n",
    "            hidden_size=hidden_size, \n",
    "            num_layers=num_layers, \n",
    "            bidirectional=bidirectional, \n",
    "            batch_first=True\n",
    "        )\n",
    "        self.hidden_to_labels = nn.Linear(hidden_size * num_layers * bidirectional, num_labels)\n",
    "        self.save_hyperparameters()\n",
    "        \n",
    "    def forward(self, input):\n",
    "        batch_size = input.shape[0]\n",
    "        hidden = torch.normal(mean=0, std=1, size=(batch_size, self.bidirectional * num_layers, self.hidden_size))\n",
    "        out, hidden = self.rnn(input, hidden)\n",
    "        logits = self.hidden_to_labels(hidden.view(batch_size, -1))\n",
    "        return logits\n",
    "        \n",
    "    def _shared_step(self, batch):\n",
    "        ids = batch['id']\n",
    "        text = batch['text']\n",
    "        intent = batch['intent']\n",
    "        logits = self(text)\n",
    "        loss = F.cross_entropy(logits, intent)\n",
    "        return loss\n",
    "        \n",
    "    def training_step(self, batch, batch_idx):\n",
    "        loss = self._shared_step(batch)\n",
    "        self.log('training_loss', loss, on_step=True, on_epoch=True, prog_bar=True, logger=True)\n",
    "        return loss\n",
    "    \n",
    "    def validation_step(self, batch, batch_idx):\n",
    "        loss = self._shared_step(batch)\n",
    "        self.log('val_loss', loss, on_step=True, on_epoch=True, prog_bar=True, logger=True)\n",
    "        return loss\n",
    "        \n",
    "    def test_step(self, batch, batch_idx):\n",
    "        ids = batch['id']\n",
    "        text = batch['text']\n",
    "        intent = batch['intent']\n",
    "        logits = self(text)\n",
    "        \n",
    "    def configure_optimizers(self):\n",
    "        return Adam(self.parameters(), lr=(self.lr))"
   ]
  },
  {
   "cell_type": "code",
   "execution_count": 13,
   "id": "noted-serbia",
   "metadata": {},
   "outputs": [
    {
     "name": "stderr",
     "output_type": "stream",
     "text": [
      "2021-03-21 23:38:01,072 - __main__ - INFO - Loading GloVe embeddings...\n",
      "2021-03-21 23:40:25,208 - __main__ - INFO - Done!\n"
     ]
    }
   ],
   "source": [
    "glove = IntentDataModule._load_glove('../../data/glove.840B.300d.gz')"
   ]
  },
  {
   "cell_type": "code",
   "execution_count": 15,
   "id": "higher-salmon",
   "metadata": {},
   "outputs": [],
   "source": [
    "intent_dm = IntentDataModule(embedding_obj=glove)"
   ]
  },
  {
   "cell_type": "code",
   "execution_count": 8,
   "id": "soviet-market",
   "metadata": {},
   "outputs": [
    {
     "name": "stdout",
     "output_type": "stream",
     "text": [
      "{'no': 0, 'schedule_meeting': 1, 'goodbye': 2, 'interest_rate': 3, 'report_lost_card': 4, 'rewards_balance': 5, 'what_can_i_ask_you': 6, 'plug_type': 7, 'credit_score': 8, 'uber': 9, 'min_payment': 10, 'rollover_401k': 11, 'damaged_card': 12, 'share_location': 13, 'book_flight': 14, 'insurance': 15, 'how_busy': 16, 'pay_bill': 17, 'calendar': 18, 'direct_deposit': 19, 'carry_on': 20, 'income': 21, 'jump_start': 22, 'calories': 23, 'measurement_conversion': 24, 'cancel_reservation': 25, 'confirm_reservation': 26, 'tire_pressure': 27, 'traffic': 28, 'meeting_schedule': 29, 'pto_used': 30, 'smart_home': 31, 'lost_luggage': 32, 'weather': 33, 'time': 34, 'pto_request_status': 35, 'timezone': 36, 'calendar_update': 37, 'thank_you': 38, 'whisper_mode': 39, 'mpg': 40, 'shopping_list': 41, 'balance': 42, 'user_name': 43, 'bill_due': 44, 'do_you_have_pets': 45, 'what_are_your_hobbies': 46, 'food_last': 47, 'who_made_you': 48, 'change_accent': 49, 'change_ai_name': 50, 'transfer': 51, 'taxes': 52, 'fun_fact': 53, 'replacement_card_duration': 54, 'timer': 55, 'car_rental': 56, 'directions': 57, 'maybe': 58, 'nutrition_info': 59, 'tell_joke': 60, 'distance': 61, 'transactions': 62, 'accept_reservations': 63, 'pto_balance': 64, 'change_speed': 65, 'todo_list_update': 66, 'are_you_a_bot': 67, 'translate': 68, 'reset_settings': 69, 'reminder': 70, 'order_checks': 71, 'exchange_rate': 72, 'restaurant_suggestion': 73, 'w2': 74, 'yes': 75, 'text': 76, 'meaning_of_life': 77, 'payday': 78, 'make_call': 79, 'ingredient_substitution': 80, 'redeem_rewards': 81, 'where_are_you_from': 82, 'play_music': 83, 'reminder_update': 84, 'freeze_account': 85, 'routing': 86, 'improve_credit_score': 87, 'flip_coin': 88, 'account_blocked': 89, 'spelling': 90, 'oil_change_when': 91, 'what_song': 92, 'travel_notification': 93, 'international_visa': 94, 'card_declined': 95, 'order_status': 96, 'todo_list': 97, 'gas': 98, 'current_location': 99, 'pto_request': 100, 'recipe': 101, 'cook_time': 102, 'vaccines': 103, 'credit_limit': 104, 'last_maintenance': 105, 'travel_alert': 106, 'next_holiday': 107, 'how_old_are_you': 108, 'expiration_date': 109, 'new_card': 110, 'what_is_your_name': 111, 'alarm': 112, 'change_language': 113, 'repeat': 114, 'definition': 115, 'pin_change': 116, 'date': 117, 'insurance_change': 118, 'bill_balance': 119, 'apr': 120, 'gas_type': 121, 'sync_device': 122, 'calculator': 123, 'ingredients_list': 124, 'travel_suggestion': 125, 'shopping_list_update': 126, 'order': 127, 'greeting': 128, 'change_volume': 129, 'meal_suggestion': 130, 'credit_limit_change': 131, 'report_fraud': 132, 'cancel': 133, 'update_playlist': 134, 'next_song': 135, 'spending_history': 136, 'international_fees': 137, 'restaurant_reservation': 138, 'change_user_name': 139, 'book_hotel': 140, 'application_status': 141, 'restaurant_reviews': 142, 'roll_dice': 143, 'who_do_you_work_for': 144, 'flight_status': 145, 'schedule_maintenance': 146, 'tire_change': 147, 'oil_change_how': 148, 'find_phone': 149}\n"
     ]
    }
   ],
   "source": [
    "intent_labels = intent_dm.intent_to_idx\n",
    "print(intent_labels)"
   ]
  },
  {
   "cell_type": "code",
   "execution_count": 16,
   "id": "turkish-southwest",
   "metadata": {},
   "outputs": [],
   "source": [
    "model = IntentClassifier(num_labels=len(intent_labels))"
   ]
  },
  {
   "cell_type": "code",
   "execution_count": 17,
   "id": "other-crest",
   "metadata": {},
   "outputs": [
    {
     "name": "stderr",
     "output_type": "stream",
     "text": [
      "GPU available: True, used: True\n",
      "TPU available: None, using: 0 TPU cores\n"
     ]
    }
   ],
   "source": [
    "trainer = pl.Trainer(\n",
    "    auto_lr_find=True,\n",
    "    gpus=1,\n",
    "    callbacks=[EarlyStopping(monitor='val_loss')])"
   ]
  },
  {
   "cell_type": "code",
   "execution_count": 18,
   "id": "interracial-bosnia",
   "metadata": {},
   "outputs": [
    {
     "ename": "TypeError",
     "evalue": "'<=' not supported between instances of 'float' and 'NoneType'",
     "output_type": "error",
     "traceback": [
      "\u001b[0;31m---------------------------------------------------------------------------\u001b[0m",
      "\u001b[0;31mTypeError\u001b[0m                                 Traceback (most recent call last)",
      "\u001b[0;32m<ipython-input-18-3a0ed70bba94>\u001b[0m in \u001b[0;36m<module>\u001b[0;34m\u001b[0m\n\u001b[0;32m----> 1\u001b[0;31m \u001b[0mtrainer\u001b[0m\u001b[0;34m.\u001b[0m\u001b[0mfit\u001b[0m\u001b[0;34m(\u001b[0m\u001b[0mmodel\u001b[0m\u001b[0;34m,\u001b[0m \u001b[0mdatamodule\u001b[0m\u001b[0;34m=\u001b[0m\u001b[0mintent_dm\u001b[0m\u001b[0;34m)\u001b[0m\u001b[0;34m\u001b[0m\u001b[0;34m\u001b[0m\u001b[0m\n\u001b[0m",
      "\u001b[0;32m~/miniconda3/envs/adl/lib/python3.8/site-packages/pytorch_lightning/trainer/trainer.py\u001b[0m in \u001b[0;36mfit\u001b[0;34m(self, model, train_dataloader, val_dataloaders, datamodule)\u001b[0m\n\u001b[1;32m    472\u001b[0m         \u001b[0mself\u001b[0m\u001b[0;34m.\u001b[0m\u001b[0mcall_setup_hook\u001b[0m\u001b[0;34m(\u001b[0m\u001b[0mmodel\u001b[0m\u001b[0;34m)\u001b[0m\u001b[0;34m\u001b[0m\u001b[0;34m\u001b[0m\u001b[0m\n\u001b[1;32m    473\u001b[0m         \u001b[0mself\u001b[0m\u001b[0;34m.\u001b[0m\u001b[0mcall_hook\u001b[0m\u001b[0;34m(\u001b[0m\u001b[0;34m\"on_before_accelerator_backend_setup\"\u001b[0m\u001b[0;34m,\u001b[0m \u001b[0mmodel\u001b[0m\u001b[0;34m)\u001b[0m\u001b[0;34m\u001b[0m\u001b[0;34m\u001b[0m\u001b[0m\n\u001b[0;32m--> 474\u001b[0;31m         \u001b[0mself\u001b[0m\u001b[0;34m.\u001b[0m\u001b[0maccelerator\u001b[0m\u001b[0;34m.\u001b[0m\u001b[0msetup\u001b[0m\u001b[0;34m(\u001b[0m\u001b[0mself\u001b[0m\u001b[0;34m,\u001b[0m \u001b[0mmodel\u001b[0m\u001b[0;34m)\u001b[0m\u001b[0;34m\u001b[0m\u001b[0;34m\u001b[0m\u001b[0m\n\u001b[0m\u001b[1;32m    475\u001b[0m         \u001b[0mself\u001b[0m\u001b[0;34m.\u001b[0m\u001b[0msetup_trainer\u001b[0m\u001b[0;34m(\u001b[0m\u001b[0mmodel\u001b[0m\u001b[0;34m)\u001b[0m\u001b[0;34m\u001b[0m\u001b[0;34m\u001b[0m\u001b[0m\n\u001b[1;32m    476\u001b[0m \u001b[0;34m\u001b[0m\u001b[0m\n",
      "\u001b[0;32m~/miniconda3/envs/adl/lib/python3.8/site-packages/pytorch_lightning/accelerators/gpu.py\u001b[0m in \u001b[0;36msetup\u001b[0;34m(self, trainer, model)\u001b[0m\n\u001b[1;32m     17\u001b[0m         \u001b[0mself\u001b[0m\u001b[0;34m.\u001b[0m\u001b[0mset_nvidia_flags\u001b[0m\u001b[0;34m(\u001b[0m\u001b[0;34m)\u001b[0m\u001b[0;34m\u001b[0m\u001b[0;34m\u001b[0m\u001b[0m\n\u001b[1;32m     18\u001b[0m         \u001b[0mtorch\u001b[0m\u001b[0;34m.\u001b[0m\u001b[0mcuda\u001b[0m\u001b[0;34m.\u001b[0m\u001b[0mset_device\u001b[0m\u001b[0;34m(\u001b[0m\u001b[0mself\u001b[0m\u001b[0;34m.\u001b[0m\u001b[0mroot_device\u001b[0m\u001b[0;34m)\u001b[0m\u001b[0;34m\u001b[0m\u001b[0;34m\u001b[0m\u001b[0m\n\u001b[0;32m---> 19\u001b[0;31m         \u001b[0;32mreturn\u001b[0m \u001b[0msuper\u001b[0m\u001b[0;34m(\u001b[0m\u001b[0;34m)\u001b[0m\u001b[0;34m.\u001b[0m\u001b[0msetup\u001b[0m\u001b[0;34m(\u001b[0m\u001b[0mtrainer\u001b[0m\u001b[0;34m,\u001b[0m \u001b[0mmodel\u001b[0m\u001b[0;34m)\u001b[0m\u001b[0;34m\u001b[0m\u001b[0;34m\u001b[0m\u001b[0m\n\u001b[0m\u001b[1;32m     20\u001b[0m \u001b[0;34m\u001b[0m\u001b[0m\n\u001b[1;32m     21\u001b[0m     \u001b[0;32mdef\u001b[0m \u001b[0mon_train_start\u001b[0m\u001b[0;34m(\u001b[0m\u001b[0mself\u001b[0m\u001b[0;34m)\u001b[0m\u001b[0;34m:\u001b[0m\u001b[0;34m\u001b[0m\u001b[0;34m\u001b[0m\u001b[0m\n",
      "\u001b[0;32m~/miniconda3/envs/adl/lib/python3.8/site-packages/pytorch_lightning/accelerators/accelerator.py\u001b[0m in \u001b[0;36msetup\u001b[0;34m(self, trainer, model)\u001b[0m\n\u001b[1;32m     68\u001b[0m         \"\"\"\n\u001b[1;32m     69\u001b[0m         \u001b[0mself\u001b[0m\u001b[0;34m.\u001b[0m\u001b[0mconnect_training_type_plugin\u001b[0m\u001b[0;34m(\u001b[0m\u001b[0mself\u001b[0m\u001b[0;34m.\u001b[0m\u001b[0mtraining_type_plugin\u001b[0m\u001b[0;34m,\u001b[0m \u001b[0mmodel\u001b[0m\u001b[0;34m)\u001b[0m\u001b[0;34m\u001b[0m\u001b[0;34m\u001b[0m\u001b[0m\n\u001b[0;32m---> 70\u001b[0;31m         \u001b[0mself\u001b[0m\u001b[0;34m.\u001b[0m\u001b[0msetup_optimizers\u001b[0m\u001b[0;34m(\u001b[0m\u001b[0mtrainer\u001b[0m\u001b[0;34m)\u001b[0m\u001b[0;34m\u001b[0m\u001b[0;34m\u001b[0m\u001b[0m\n\u001b[0m\u001b[1;32m     71\u001b[0m         \u001b[0mself\u001b[0m\u001b[0;34m.\u001b[0m\u001b[0mconnect_precision_plugin\u001b[0m\u001b[0;34m(\u001b[0m\u001b[0mself\u001b[0m\u001b[0;34m.\u001b[0m\u001b[0mprecision_plugin\u001b[0m\u001b[0;34m)\u001b[0m\u001b[0;34m\u001b[0m\u001b[0;34m\u001b[0m\u001b[0m\n\u001b[1;32m     72\u001b[0m \u001b[0;34m\u001b[0m\u001b[0m\n",
      "\u001b[0;32m~/miniconda3/envs/adl/lib/python3.8/site-packages/pytorch_lightning/accelerators/accelerator.py\u001b[0m in \u001b[0;36msetup_optimizers\u001b[0;34m(self, trainer)\u001b[0m\n\u001b[1;32m    314\u001b[0m         \u001b[0;32mif\u001b[0m \u001b[0mtrainer\u001b[0m\u001b[0;34m.\u001b[0m\u001b[0mtesting\u001b[0m\u001b[0;34m:\u001b[0m\u001b[0;34m\u001b[0m\u001b[0;34m\u001b[0m\u001b[0m\n\u001b[1;32m    315\u001b[0m             \u001b[0;32mreturn\u001b[0m\u001b[0;34m\u001b[0m\u001b[0;34m\u001b[0m\u001b[0m\n\u001b[0;32m--> 316\u001b[0;31m         optimizers, lr_schedulers, optimizer_frequencies = self.training_type_plugin.init_optimizers(\n\u001b[0m\u001b[1;32m    317\u001b[0m             \u001b[0mtrainer\u001b[0m\u001b[0;34m=\u001b[0m\u001b[0mtrainer\u001b[0m\u001b[0;34m,\u001b[0m \u001b[0mmodel\u001b[0m\u001b[0;34m=\u001b[0m\u001b[0mself\u001b[0m\u001b[0;34m.\u001b[0m\u001b[0mlightning_module\u001b[0m\u001b[0;34m\u001b[0m\u001b[0;34m\u001b[0m\u001b[0m\n\u001b[1;32m    318\u001b[0m         )\n",
      "\u001b[0;32m~/miniconda3/envs/adl/lib/python3.8/site-packages/pytorch_lightning/plugins/training_type/training_type_plugin.py\u001b[0m in \u001b[0;36minit_optimizers\u001b[0;34m(self, trainer, model)\u001b[0m\n\u001b[1;32m    155\u001b[0m \u001b[0;34m\u001b[0m\u001b[0m\n\u001b[1;32m    156\u001b[0m     \u001b[0;32mdef\u001b[0m \u001b[0minit_optimizers\u001b[0m\u001b[0;34m(\u001b[0m\u001b[0mself\u001b[0m\u001b[0;34m,\u001b[0m \u001b[0mtrainer\u001b[0m\u001b[0;34m:\u001b[0m \u001b[0;34m\"Trainer\"\u001b[0m\u001b[0;34m,\u001b[0m \u001b[0mmodel\u001b[0m\u001b[0;34m:\u001b[0m \u001b[0mLightningModule\u001b[0m\u001b[0;34m)\u001b[0m\u001b[0;34m:\u001b[0m\u001b[0;34m\u001b[0m\u001b[0;34m\u001b[0m\u001b[0m\n\u001b[0;32m--> 157\u001b[0;31m         \u001b[0;32mreturn\u001b[0m \u001b[0mtrainer\u001b[0m\u001b[0;34m.\u001b[0m\u001b[0minit_optimizers\u001b[0m\u001b[0;34m(\u001b[0m\u001b[0mmodel\u001b[0m\u001b[0;34m)\u001b[0m\u001b[0;34m\u001b[0m\u001b[0;34m\u001b[0m\u001b[0m\n\u001b[0m\u001b[1;32m    158\u001b[0m \u001b[0;34m\u001b[0m\u001b[0m\n\u001b[1;32m    159\u001b[0m     \u001b[0;32mdef\u001b[0m \u001b[0moptimizer_step\u001b[0m\u001b[0;34m(\u001b[0m\u001b[0mself\u001b[0m\u001b[0;34m,\u001b[0m \u001b[0moptimizer\u001b[0m\u001b[0;34m:\u001b[0m \u001b[0mtorch\u001b[0m\u001b[0;34m.\u001b[0m\u001b[0moptim\u001b[0m\u001b[0;34m.\u001b[0m\u001b[0mOptimizer\u001b[0m\u001b[0;34m,\u001b[0m \u001b[0mlambda_closure\u001b[0m\u001b[0;34m:\u001b[0m \u001b[0mCallable\u001b[0m\u001b[0;34m,\u001b[0m \u001b[0;34m**\u001b[0m\u001b[0mkwargs\u001b[0m\u001b[0;34m)\u001b[0m\u001b[0;34m:\u001b[0m\u001b[0;34m\u001b[0m\u001b[0;34m\u001b[0m\u001b[0m\n",
      "\u001b[0;32m~/miniconda3/envs/adl/lib/python3.8/site-packages/pytorch_lightning/trainer/optimizers.py\u001b[0m in \u001b[0;36minit_optimizers\u001b[0;34m(self, model)\u001b[0m\n\u001b[1;32m     32\u001b[0m     \u001b[0;32mdef\u001b[0m \u001b[0minit_optimizers\u001b[0m\u001b[0;34m(\u001b[0m\u001b[0mself\u001b[0m\u001b[0;34m,\u001b[0m \u001b[0mmodel\u001b[0m\u001b[0;34m:\u001b[0m \u001b[0mLightningModule\u001b[0m\u001b[0;34m)\u001b[0m \u001b[0;34m->\u001b[0m \u001b[0mTuple\u001b[0m\u001b[0;34m[\u001b[0m\u001b[0mList\u001b[0m\u001b[0;34m,\u001b[0m \u001b[0mList\u001b[0m\u001b[0;34m,\u001b[0m \u001b[0mList\u001b[0m\u001b[0;34m]\u001b[0m\u001b[0;34m:\u001b[0m\u001b[0;34m\u001b[0m\u001b[0;34m\u001b[0m\u001b[0m\n\u001b[1;32m     33\u001b[0m         \u001b[0mself\u001b[0m\u001b[0;34m.\u001b[0m\u001b[0m_lightning_optimizers\u001b[0m \u001b[0;34m=\u001b[0m \u001b[0;32mNone\u001b[0m\u001b[0;34m\u001b[0m\u001b[0;34m\u001b[0m\u001b[0m\n\u001b[0;32m---> 34\u001b[0;31m         \u001b[0moptim_conf\u001b[0m \u001b[0;34m=\u001b[0m \u001b[0mmodel\u001b[0m\u001b[0;34m.\u001b[0m\u001b[0mconfigure_optimizers\u001b[0m\u001b[0;34m(\u001b[0m\u001b[0;34m)\u001b[0m\u001b[0;34m\u001b[0m\u001b[0;34m\u001b[0m\u001b[0m\n\u001b[0m\u001b[1;32m     35\u001b[0m         \u001b[0;32mif\u001b[0m \u001b[0moptim_conf\u001b[0m \u001b[0;32mis\u001b[0m \u001b[0;32mNone\u001b[0m\u001b[0;34m:\u001b[0m\u001b[0;34m\u001b[0m\u001b[0;34m\u001b[0m\u001b[0m\n\u001b[1;32m     36\u001b[0m             rank_zero_warn(\n",
      "\u001b[0;32m<ipython-input-6-9d797f210a9b>\u001b[0m in \u001b[0;36mconfigure_optimizers\u001b[0;34m(self)\u001b[0m\n\u001b[1;32m     48\u001b[0m \u001b[0;34m\u001b[0m\u001b[0m\n\u001b[1;32m     49\u001b[0m     \u001b[0;32mdef\u001b[0m \u001b[0mconfigure_optimizers\u001b[0m\u001b[0;34m(\u001b[0m\u001b[0mself\u001b[0m\u001b[0;34m)\u001b[0m\u001b[0;34m:\u001b[0m\u001b[0;34m\u001b[0m\u001b[0;34m\u001b[0m\u001b[0m\n\u001b[0;32m---> 50\u001b[0;31m         \u001b[0;32mreturn\u001b[0m \u001b[0mAdam\u001b[0m\u001b[0;34m(\u001b[0m\u001b[0mself\u001b[0m\u001b[0;34m.\u001b[0m\u001b[0mparameters\u001b[0m\u001b[0;34m(\u001b[0m\u001b[0;34m)\u001b[0m\u001b[0;34m,\u001b[0m \u001b[0mlr\u001b[0m\u001b[0;34m=\u001b[0m\u001b[0;34m(\u001b[0m\u001b[0mself\u001b[0m\u001b[0;34m.\u001b[0m\u001b[0mlr\u001b[0m\u001b[0;34m)\u001b[0m\u001b[0;34m)\u001b[0m\u001b[0;34m\u001b[0m\u001b[0;34m\u001b[0m\u001b[0m\n\u001b[0m",
      "\u001b[0;32m~/miniconda3/envs/adl/lib/python3.8/site-packages/torch/optim/adam.py\u001b[0m in \u001b[0;36m__init__\u001b[0;34m(self, params, lr, betas, eps, weight_decay, amsgrad)\u001b[0m\n\u001b[1;32m     34\u001b[0m     def __init__(self, params, lr=1e-3, betas=(0.9, 0.999), eps=1e-8,\n\u001b[1;32m     35\u001b[0m                  weight_decay=0, amsgrad=False):\n\u001b[0;32m---> 36\u001b[0;31m         \u001b[0;32mif\u001b[0m \u001b[0;32mnot\u001b[0m \u001b[0;36m0.0\u001b[0m \u001b[0;34m<=\u001b[0m \u001b[0mlr\u001b[0m\u001b[0;34m:\u001b[0m\u001b[0;34m\u001b[0m\u001b[0;34m\u001b[0m\u001b[0m\n\u001b[0m\u001b[1;32m     37\u001b[0m             \u001b[0;32mraise\u001b[0m \u001b[0mValueError\u001b[0m\u001b[0;34m(\u001b[0m\u001b[0;34m\"Invalid learning rate: {}\"\u001b[0m\u001b[0;34m.\u001b[0m\u001b[0mformat\u001b[0m\u001b[0;34m(\u001b[0m\u001b[0mlr\u001b[0m\u001b[0;34m)\u001b[0m\u001b[0;34m)\u001b[0m\u001b[0;34m\u001b[0m\u001b[0;34m\u001b[0m\u001b[0m\n\u001b[1;32m     38\u001b[0m         \u001b[0;32mif\u001b[0m \u001b[0;32mnot\u001b[0m \u001b[0;36m0.0\u001b[0m \u001b[0;34m<=\u001b[0m \u001b[0meps\u001b[0m\u001b[0;34m:\u001b[0m\u001b[0;34m\u001b[0m\u001b[0;34m\u001b[0m\u001b[0m\n",
      "\u001b[0;31mTypeError\u001b[0m: '<=' not supported between instances of 'float' and 'NoneType'"
     ]
    }
   ],
   "source": [
    "trainer.fit(model, datamodule=intent_dm)"
   ]
  },
  {
   "cell_type": "code",
   "execution_count": 87,
   "id": "republican-nowhere",
   "metadata": {},
   "outputs": [
    {
     "name": "stderr",
     "output_type": "stream",
     "text": [
      "2021-03-21 02:06:47,328 - __main__ - INFO - Loading GloVe embeddings...\n",
      "2021-03-21 02:08:37,989 - __main__ - INFO - Done!\n"
     ]
    }
   ],
   "source": [
    "glove = IntentDataset._load_glove('../../data/glove.840B.300d.gz')"
   ]
  },
  {
   "cell_type": "code",
   "execution_count": 104,
   "id": "persistent-sapphire",
   "metadata": {},
   "outputs": [],
   "source": [
    "ds = IntentDataset(\"../ADL21-HW1/data/intent/train.json\", \"../data/intents_to_idx.json\", glove_obj=glove )"
   ]
  },
  {
   "cell_type": "code",
   "execution_count": 100,
   "id": "bronze-siemens",
   "metadata": {},
   "outputs": [],
   "source": [
    "l = [torch.randn(3) for _ in range(5)]"
   ]
  },
  {
   "cell_type": "code",
   "execution_count": 107,
   "id": "collective-nickname",
   "metadata": {},
   "outputs": [],
   "source": [
    "s = next(iter(ds))"
   ]
  },
  {
   "cell_type": "code",
   "execution_count": 122,
   "id": "intelligent-commitment",
   "metadata": {},
   "outputs": [
    {
     "data": {
      "text/plain": [
       "tensor([[-0.0324, -0.7132, -1.3052,  0.7677, -0.0789,  1.6746, -0.0386, -1.2344,\n",
       "          0.1433, -0.4265, -0.0532, -0.6045,  0.1797, -0.7614, -0.0978,  1.2656,\n",
       "          0.7109,  1.1740, -0.2431,  0.1102, -0.9642,  1.2626,  0.8538,  0.8802,\n",
       "         -0.2327],\n",
       "        [-1.8271,  0.1353, -0.4879, -0.1387, -0.9153,  0.8262,  1.2216, -0.7418,\n",
       "         -0.2891,  0.3275,  1.4131, -1.1525,  1.4058,  0.2956,  0.0996, -0.6835,\n",
       "          0.3763, -0.0179, -1.4679, -1.7368,  0.2121, -0.0423, -1.5612,  0.0631,\n",
       "         -1.1917],\n",
       "        [ 1.6430, -2.3248,  0.3844,  1.2961,  1.0659,  1.5517, -0.0344,  0.2015,\n",
       "          0.6523, -0.7296, -0.7293, -0.3694,  0.0523, -1.3394, -0.8691,  0.2236,\n",
       "         -0.8475,  0.2824, -0.6079, -0.2165, -0.8867,  0.1901, -0.8858,  0.3700,\n",
       "          1.1296],\n",
       "        [-0.3087,  0.1910,  0.6390,  0.5137, -1.3382,  0.4214,  0.4018, -0.7678,\n",
       "         -0.6880,  1.6784,  1.0070,  0.2627, -0.4721, -1.1159,  0.6519,  1.9695,\n",
       "          0.9160,  0.2786,  0.0575, -0.3378, -0.7683, -0.5465, -1.2563, -0.6291,\n",
       "         -1.1125],\n",
       "        [ 1.2283,  0.2444,  1.3429, -1.4892, -0.8354,  0.1082,  0.9325, -0.4430,\n",
       "         -0.2209, -0.1871,  0.1031, -1.1262, -0.9672,  0.4303, -0.5498, -0.6580,\n",
       "          0.9617,  0.4196, -0.1284, -0.1774,  0.2742, -0.2941, -0.9516,  2.7841,\n",
       "         -1.4036]])"
      ]
     },
     "execution_count": 122,
     "metadata": {},
     "output_type": "execute_result"
    }
   ],
   "source": [
    "torch.normal(mean=0, std=1, size=(5, 25))"
   ]
  },
  {
   "cell_type": "code",
   "execution_count": 99,
   "id": "novel-carrier",
   "metadata": {},
   "outputs": [
    {
     "data": {
      "text/plain": [
       "torch.Size([300])"
      ]
     },
     "execution_count": 99,
     "metadata": {},
     "output_type": "execute_result"
    }
   ],
   "source": [
    "glove['jump'].shape"
   ]
  },
  {
   "cell_type": "code",
   "execution_count": 47,
   "id": "dressed-theme",
   "metadata": {},
   "outputs": [
    {
     "name": "stderr",
     "output_type": "stream",
     "text": [
      "2021-03-18 00:23:09,648 - __main__ - INFO - Loading Glove embeddings...\n",
      "2021-03-18 00:25:02,845 - __main__ - INFO - Glove embeddings loaded.\n"
     ]
    }
   ],
   "source": [
    "g = build_glove('../../data/glove.840B.300d.txt')"
   ]
  },
  {
   "cell_type": "code",
   "execution_count": 50,
   "id": "rocky-trout",
   "metadata": {},
   "outputs": [],
   "source": [
    "with gzip.open('../../data/glove.840B.300d.gz', 'wb') as f:\n",
    "    pickle.dump(g, f)"
   ]
  },
  {
   "cell_type": "code",
   "execution_count": 17,
   "id": "functional-spread",
   "metadata": {},
   "outputs": [
    {
     "name": "stderr",
     "output_type": "stream",
     "text": [
      "Warning : `load_model` does not return WordVectorModel or SupervisedModel any more, but a `FastText` object which is very similar.\n"
     ]
    }
   ],
   "source": [
    "ft = fasttext.load_model('../../data/crawl-300d-2M-subword.bin')"
   ]
  },
  {
   "cell_type": "code",
   "execution_count": 12,
   "id": "executive-rider",
   "metadata": {},
   "outputs": [
    {
     "data": {
      "text/plain": [
       "<fasttext.FastText._FastText at 0x7f6c50bd7430>"
      ]
     },
     "execution_count": 12,
     "metadata": {},
     "output_type": "execute_result"
    }
   ],
   "source": [
    "fasttext.util.reduce_model(ft, 100)"
   ]
  },
  {
   "cell_type": "code",
   "execution_count": 13,
   "id": "necessary-zoning",
   "metadata": {},
   "outputs": [],
   "source": [
    "ft.save_model('../../data/crawl-100d-2M-subword.bin')"
   ]
  },
  {
   "cell_type": "code",
   "execution_count": 14,
   "id": "abstract-kingston",
   "metadata": {},
   "outputs": [
    {
     "name": "stderr",
     "output_type": "stream",
     "text": [
      "Warning : `load_model` does not return WordVectorModel or SupervisedModel any more, but a `FastText` object which is very similar.\n"
     ]
    }
   ],
   "source": [
    "ft = fasttext.load_model('../../data/crawl-100d-2M-subword.bin')"
   ]
  },
  {
   "cell_type": "code",
   "execution_count": 18,
   "id": "irish-mailman",
   "metadata": {},
   "outputs": [
    {
     "ename": "UnicodeDecodeError",
     "evalue": "'utf-8' codec can't decode byte 0xce in position 57: unexpected end of data",
     "output_type": "error",
     "traceback": [
      "\u001b[0;31m---------------------------------------------------------------------------\u001b[0m",
      "\u001b[0;31mUnicodeDecodeError\u001b[0m                        Traceback (most recent call last)",
      "\u001b[0;32m<ipython-input-18-e8c1ba3eca2e>\u001b[0m in \u001b[0;36m<module>\u001b[0;34m\u001b[0m\n\u001b[0;32m----> 1\u001b[0;31m \u001b[0mwords\u001b[0m \u001b[0;34m=\u001b[0m \u001b[0mft\u001b[0m\u001b[0;34m.\u001b[0m\u001b[0mget_words\u001b[0m\u001b[0;34m(\u001b[0m\u001b[0;34m)\u001b[0m\u001b[0;34m\u001b[0m\u001b[0;34m\u001b[0m\u001b[0m\n\u001b[0m\u001b[1;32m      2\u001b[0m \u001b[0mwords\u001b[0m\u001b[0;34m[\u001b[0m\u001b[0;34m:\u001b[0m\u001b[0;36m50\u001b[0m\u001b[0;34m]\u001b[0m\u001b[0;34m\u001b[0m\u001b[0;34m\u001b[0m\u001b[0m\n",
      "\u001b[0;32m~/miniconda3/envs/adl/lib/python3.8/site-packages/fasttext/FastText.py\u001b[0m in \u001b[0;36mget_words\u001b[0;34m(self, include_freq, on_unicode_error)\u001b[0m\n\u001b[1;32m    257\u001b[0m         \u001b[0mthe\u001b[0m \u001b[0mfunction\u001b[0m \u001b[0mget_subwords\u001b[0m\u001b[0;34m.\u001b[0m\u001b[0;34m\u001b[0m\u001b[0;34m\u001b[0m\u001b[0m\n\u001b[1;32m    258\u001b[0m         \"\"\"\n\u001b[0;32m--> 259\u001b[0;31m         \u001b[0mpair\u001b[0m \u001b[0;34m=\u001b[0m \u001b[0mself\u001b[0m\u001b[0;34m.\u001b[0m\u001b[0mf\u001b[0m\u001b[0;34m.\u001b[0m\u001b[0mgetVocab\u001b[0m\u001b[0;34m(\u001b[0m\u001b[0mon_unicode_error\u001b[0m\u001b[0;34m)\u001b[0m\u001b[0;34m\u001b[0m\u001b[0;34m\u001b[0m\u001b[0m\n\u001b[0m\u001b[1;32m    260\u001b[0m         \u001b[0;32mif\u001b[0m \u001b[0minclude_freq\u001b[0m\u001b[0;34m:\u001b[0m\u001b[0;34m\u001b[0m\u001b[0;34m\u001b[0m\u001b[0m\n\u001b[1;32m    261\u001b[0m             \u001b[0;32mreturn\u001b[0m \u001b[0;34m(\u001b[0m\u001b[0mpair\u001b[0m\u001b[0;34m[\u001b[0m\u001b[0;36m0\u001b[0m\u001b[0;34m]\u001b[0m\u001b[0;34m,\u001b[0m \u001b[0mnp\u001b[0m\u001b[0;34m.\u001b[0m\u001b[0marray\u001b[0m\u001b[0;34m(\u001b[0m\u001b[0mpair\u001b[0m\u001b[0;34m[\u001b[0m\u001b[0;36m1\u001b[0m\u001b[0;34m]\u001b[0m\u001b[0;34m)\u001b[0m\u001b[0;34m)\u001b[0m\u001b[0;34m\u001b[0m\u001b[0;34m\u001b[0m\u001b[0m\n",
      "\u001b[0;31mUnicodeDecodeError\u001b[0m: 'utf-8' codec can't decode byte 0xce in position 57: unexpected end of data"
     ]
    }
   ],
   "source": [
    "words = ft.get_words()\n",
    "words[:50]"
   ]
  }
 ],
 "metadata": {
  "kernelspec": {
   "display_name": "adl",
   "language": "python",
   "name": "adl"
  },
  "language_info": {
   "codemirror_mode": {
    "name": "ipython",
    "version": 3
   },
   "file_extension": ".py",
   "mimetype": "text/x-python",
   "name": "python",
   "nbconvert_exporter": "python",
   "pygments_lexer": "ipython3",
   "version": "3.8.8"
  }
 },
 "nbformat": 4,
 "nbformat_minor": 5
}
